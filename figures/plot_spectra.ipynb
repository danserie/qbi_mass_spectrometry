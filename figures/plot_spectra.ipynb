{
 "cells": [
  {
   "cell_type": "markdown",
   "metadata": {},
   "source": [
    "# Spectra visualization\n",
    "\n",
    "ion: b: 0 , y: 1 \n",
    "<br>\n",
    "position:  position of the ion"
   ]
  },
  {
   "cell_type": "code",
   "execution_count": 1,
   "metadata": {
    "collapsed": true
   },
   "outputs": [],
   "source": [
    "import pandas as pd\n",
    "import numpy as np\n",
    "import ast\n",
    "\n",
    "import matplotlib\n",
    "import matplotlib.pyplot as plt\n",
    "import math\n",
    "% matplotlib inline\n",
    "matplotlib.rc('xtick', labelsize=14) \n",
    "matplotlib.rc('ytick', labelsize=14) \n",
    "matplotlib.rcParams.update({'font.size': 16})"
   ]
  },
  {
   "cell_type": "code",
   "execution_count": 2,
   "metadata": {
    "collapsed": true
   },
   "outputs": [],
   "source": [
    "DF = pd.read_csv('../output.csv', quotechar='\"',converters={'name': ast.literal_eval, 'mz':ast.literal_eval,\n",
    "                                                            'intensity':ast.literal_eval, 'ion':ast.literal_eval,\n",
    "                                                            'position':ast.literal_eval, 'neutral_loss':ast.literal_eval})\n",
    "\n"
   ]
  },
  {
   "cell_type": "code",
   "execution_count": 4,
   "metadata": {},
   "outputs": [
    {
     "data": {
      "text/html": [
       "<div>\n",
       "<style>\n",
       "    .dataframe thead tr:only-child th {\n",
       "        text-align: right;\n",
       "    }\n",
       "\n",
       "    .dataframe thead th {\n",
       "        text-align: left;\n",
       "    }\n",
       "\n",
       "    .dataframe tbody tr th {\n",
       "        vertical-align: top;\n",
       "    }\n",
       "</style>\n",
       "<table border=\"1\" class=\"dataframe\">\n",
       "  <thead>\n",
       "    <tr style=\"text-align: right;\">\n",
       "      <th></th>\n",
       "      <th>acetyl</th>\n",
       "      <th>name</th>\n",
       "      <th>charge</th>\n",
       "      <th>precursor</th>\n",
       "      <th>mz</th>\n",
       "      <th>intensity</th>\n",
       "      <th>ion</th>\n",
       "      <th>position</th>\n",
       "      <th>neutral_loss</th>\n",
       "      <th>ion_charge</th>\n",
       "      <th>delta</th>\n",
       "    </tr>\n",
       "  </thead>\n",
       "  <tbody>\n",
       "    <tr>\n",
       "      <th>0</th>\n",
       "      <td>1</td>\n",
       "      <td>[[1, 0, 0, 0, 0, 0, 0, 0, 0, 0, 0, 0, 0, 0, 0,...</td>\n",
       "      <td>4</td>\n",
       "      <td>734.1188</td>\n",
       "      <td>[129.102, 130.087, 143.082, 147.113, 155.081, ...</td>\n",
       "      <td>[794.5, 627.6, 612.5, 1266.7, 625.9, 4848.7, 4...</td>\n",
       "      <td>[0, 1, 0, 1, 0, 1, 0, 1, 0, 0, 0, 1, 0, 1, 0, ...</td>\n",
       "      <td>[3, 1, 7, 1, 4, 6, 8, 2, 3, 7, 4, 3, 14, 8, 12...</td>\n",
       "      <td>[0, 17, 17, 0, 17, 0, 0, 0, 0, 17, 0, 0, 0, 0,...</td>\n",
       "      <td>[2, 1, 4, 1, 2, 4, 3, 1, 1, 2, 1, 1, 3, 2, 2, ...</td>\n",
       "      <td>[0.534, 0.0, 0.762, -0.0, -0.492, 0.743, 0.012...</td>\n",
       "    </tr>\n",
       "    <tr>\n",
       "      <th>1</th>\n",
       "      <td>1</td>\n",
       "      <td>[[1, 0, 0, 0, 0, 0, 0, 0, 0, 0, 0, 0, 0, 0, 0,...</td>\n",
       "      <td>3</td>\n",
       "      <td>863.7640</td>\n",
       "      <td>[110.071, 129.102, 143.081, 169.096, 185.092, ...</td>\n",
       "      <td>[270.2, 505.1, 319.4, 253.8, 4405.6, 300.5, 53...</td>\n",
       "      <td>[0, 0, 1, 1, 0, 1, 1, 1, 0, 1, 0, 1, 0, 1, 1, ...</td>\n",
       "      <td>[4, 3, 4, 3, 2, 3, 6, 2, 3, 8, 4, 10, 5, 7, 4,...</td>\n",
       "      <td>[0, 0, 0, 35, 0, 0, 0, 0, 0, 44, 0, 91, 0, 0, ...</td>\n",
       "      <td>[3, 2, 3, 2, 1, 2, 3, 1, 1, 3, 1, 3, 1, 2, 1, ...</td>\n",
       "      <td>[0.344, 0.534, -0.672, -0.001, -0.001, -0.521,...</td>\n",
       "    </tr>\n",
       "    <tr>\n",
       "      <th>2</th>\n",
       "      <td>1</td>\n",
       "      <td>[[1, 0, 0, 0, 0, 0, 0, 0, 0, 0, 0, 0, 0, 0, 0,...</td>\n",
       "      <td>5</td>\n",
       "      <td>820.6322</td>\n",
       "      <td>[110.071, 114.055, 129.102, 133.042, 136.076, ...</td>\n",
       "      <td>[439.1, 346.6, 1321.8, 147.1, 233.4, 266.0, 21...</td>\n",
       "      <td>[0, 0, 0, 0, 0, 0, 1, 1, 1, 1, 0, 1, 1, 1, 0, ...</td>\n",
       "      <td>[4, 1, 3, 6, 8, 7, 1, 5, 3, 6, 2, 6, 7, 5, 10,...</td>\n",
       "      <td>[0, 0, 0, 0, 0, 17, 0, 0, 44, 17, 0, 0, 0, 0, ...</td>\n",
       "      <td>[3, 1, 2, 4, 5, 4, 1, 4, 2, 4, 1, 4, 4, 3, 4, ...</td>\n",
       "      <td>[0.344, -0.0, 0.534, 0.227, 0.811, 0.267, -0.0...</td>\n",
       "    </tr>\n",
       "    <tr>\n",
       "      <th>3</th>\n",
       "      <td>1</td>\n",
       "      <td>[[1, 0, 0, 0, 0, 0, 0, 0, 0, 0, 0, 0, 0, 0, 0,...</td>\n",
       "      <td>4</td>\n",
       "      <td>888.1818</td>\n",
       "      <td>[110.07, 114.054, 126.055, 138.054, 141.101, 1...</td>\n",
       "      <td>[171.4, 240.0, 545.2, 334.9, 626.2, 529.6, 477...</td>\n",
       "      <td>[0, 0, 1, 0, 0, 0, 0, 0, 1, 0, 1, 1, 0, 1, 1, ...</td>\n",
       "      <td>[4, 1, 4, 7, 5, 7, 4, 6, 4, 2, 4, 3, 2, 6, 5, ...</td>\n",
       "      <td>[0, 0, 17, 17, 0, 0, 17, 0, 17, 17, 0, 0, 0, 0...</td>\n",
       "      <td>[3, 1, 4, 4, 3, 4, 2, 3, 3, 1, 3, 2, 1, 4, 3, ...</td>\n",
       "      <td>[0.344, -0.001, 0.723, -0.018, -0.976, 0.752, ...</td>\n",
       "    </tr>\n",
       "    <tr>\n",
       "      <th>4</th>\n",
       "      <td>1</td>\n",
       "      <td>[[1, 0, 0, 0, 0, 0, 0, 0, 0, 0, 0, 0, 0, 0, 0,...</td>\n",
       "      <td>5</td>\n",
       "      <td>409.0383</td>\n",
       "      <td>[114.055, 129.102, 136.076, 143.081, 144.085, ...</td>\n",
       "      <td>[962.3, 159.9, 103.4, 1914.7, 121.9, 247.9, 40...</td>\n",
       "      <td>[0, 0, 1, 0, 1, 1, 0, 1, 0, 1, 0, 0, 0, 1, 1, ...</td>\n",
       "      <td>[1, 6, 5, 5, 3, 5, 6, 1, 2, 3, 9, 5, 3, 4, 2, ...</td>\n",
       "      <td>[0, 0, 0, 0, 0, 0, 0, 0, 0, 46, 17, 0, 0, 0, 0...</td>\n",
       "      <td>[1, 4, 5, 3, 3, 4, 3, 1, 1, 2, 4, 2, 1, 2, 1, ...</td>\n",
       "      <td>[-0.0, 0.03, 0.59, 0.331, -0.344, -0.008, -0.6...</td>\n",
       "    </tr>\n",
       "  </tbody>\n",
       "</table>\n",
       "</div>"
      ],
      "text/plain": [
       "   acetyl                                               name  charge  \\\n",
       "0       1  [[1, 0, 0, 0, 0, 0, 0, 0, 0, 0, 0, 0, 0, 0, 0,...       4   \n",
       "1       1  [[1, 0, 0, 0, 0, 0, 0, 0, 0, 0, 0, 0, 0, 0, 0,...       3   \n",
       "2       1  [[1, 0, 0, 0, 0, 0, 0, 0, 0, 0, 0, 0, 0, 0, 0,...       5   \n",
       "3       1  [[1, 0, 0, 0, 0, 0, 0, 0, 0, 0, 0, 0, 0, 0, 0,...       4   \n",
       "4       1  [[1, 0, 0, 0, 0, 0, 0, 0, 0, 0, 0, 0, 0, 0, 0,...       5   \n",
       "\n",
       "   precursor                                                 mz  \\\n",
       "0   734.1188  [129.102, 130.087, 143.082, 147.113, 155.081, ...   \n",
       "1   863.7640  [110.071, 129.102, 143.081, 169.096, 185.092, ...   \n",
       "2   820.6322  [110.071, 114.055, 129.102, 133.042, 136.076, ...   \n",
       "3   888.1818  [110.07, 114.054, 126.055, 138.054, 141.101, 1...   \n",
       "4   409.0383  [114.055, 129.102, 136.076, 143.081, 144.085, ...   \n",
       "\n",
       "                                           intensity  \\\n",
       "0  [794.5, 627.6, 612.5, 1266.7, 625.9, 4848.7, 4...   \n",
       "1  [270.2, 505.1, 319.4, 253.8, 4405.6, 300.5, 53...   \n",
       "2  [439.1, 346.6, 1321.8, 147.1, 233.4, 266.0, 21...   \n",
       "3  [171.4, 240.0, 545.2, 334.9, 626.2, 529.6, 477...   \n",
       "4  [962.3, 159.9, 103.4, 1914.7, 121.9, 247.9, 40...   \n",
       "\n",
       "                                                 ion  \\\n",
       "0  [0, 1, 0, 1, 0, 1, 0, 1, 0, 0, 0, 1, 0, 1, 0, ...   \n",
       "1  [0, 0, 1, 1, 0, 1, 1, 1, 0, 1, 0, 1, 0, 1, 1, ...   \n",
       "2  [0, 0, 0, 0, 0, 0, 1, 1, 1, 1, 0, 1, 1, 1, 0, ...   \n",
       "3  [0, 0, 1, 0, 0, 0, 0, 0, 1, 0, 1, 1, 0, 1, 1, ...   \n",
       "4  [0, 0, 1, 0, 1, 1, 0, 1, 0, 1, 0, 0, 0, 1, 1, ...   \n",
       "\n",
       "                                            position  \\\n",
       "0  [3, 1, 7, 1, 4, 6, 8, 2, 3, 7, 4, 3, 14, 8, 12...   \n",
       "1  [4, 3, 4, 3, 2, 3, 6, 2, 3, 8, 4, 10, 5, 7, 4,...   \n",
       "2  [4, 1, 3, 6, 8, 7, 1, 5, 3, 6, 2, 6, 7, 5, 10,...   \n",
       "3  [4, 1, 4, 7, 5, 7, 4, 6, 4, 2, 4, 3, 2, 6, 5, ...   \n",
       "4  [1, 6, 5, 5, 3, 5, 6, 1, 2, 3, 9, 5, 3, 4, 2, ...   \n",
       "\n",
       "                                        neutral_loss  \\\n",
       "0  [0, 17, 17, 0, 17, 0, 0, 0, 0, 17, 0, 0, 0, 0,...   \n",
       "1  [0, 0, 0, 35, 0, 0, 0, 0, 0, 44, 0, 91, 0, 0, ...   \n",
       "2  [0, 0, 0, 0, 0, 17, 0, 0, 44, 17, 0, 0, 0, 0, ...   \n",
       "3  [0, 0, 17, 17, 0, 0, 17, 0, 17, 17, 0, 0, 0, 0...   \n",
       "4  [0, 0, 0, 0, 0, 0, 0, 0, 0, 46, 17, 0, 0, 0, 0...   \n",
       "\n",
       "                                          ion_charge  \\\n",
       "0  [2, 1, 4, 1, 2, 4, 3, 1, 1, 2, 1, 1, 3, 2, 2, ...   \n",
       "1  [3, 2, 3, 2, 1, 2, 3, 1, 1, 3, 1, 3, 1, 2, 1, ...   \n",
       "2  [3, 1, 2, 4, 5, 4, 1, 4, 2, 4, 1, 4, 4, 3, 4, ...   \n",
       "3  [3, 1, 4, 4, 3, 4, 2, 3, 3, 1, 3, 2, 1, 4, 3, ...   \n",
       "4  [1, 4, 5, 3, 3, 4, 3, 1, 1, 2, 4, 2, 1, 2, 1, ...   \n",
       "\n",
       "                                               delta  \n",
       "0  [0.534, 0.0, 0.762, -0.0, -0.492, 0.743, 0.012...  \n",
       "1  [0.344, 0.534, -0.672, -0.001, -0.001, -0.521,...  \n",
       "2  [0.344, -0.0, 0.534, 0.227, 0.811, 0.267, -0.0...  \n",
       "3  [0.344, -0.001, 0.723, -0.018, -0.976, 0.752, ...  \n",
       "4  [-0.0, 0.03, 0.59, 0.331, -0.344, -0.008, -0.6...  "
      ]
     },
     "execution_count": 4,
     "metadata": {},
     "output_type": "execute_result"
    }
   ],
   "source": [
    "DF.head()\n"
   ]
  },
  {
   "cell_type": "code",
   "execution_count": null,
   "metadata": {
    "collapsed": true
   },
   "outputs": [],
   "source": []
  },
  {
   "cell_type": "code",
   "execution_count": 6,
   "metadata": {},
   "outputs": [
    {
     "data": {
      "text/plain": [
       "mz           [129.102, 130.087, 143.082, 147.113, 155.081, ...\n",
       "intensity    [794.5, 627.6, 612.5, 1266.7, 625.9, 4848.7, 4...\n",
       "ion          [0, 1, 0, 1, 0, 1, 0, 1, 0, 0, 0, 1, 0, 1, 0, ...\n",
       "position     [3, 1, 7, 1, 4, 6, 8, 2, 3, 7, 4, 3, 14, 8, 12...\n",
       "Name: 0, dtype: object"
      ]
     },
     "execution_count": 6,
     "metadata": {},
     "output_type": "execute_result"
    }
   ],
   "source": [
    "D = DF[['mz','intensity','ion','position']].iloc[0]\n",
    "D"
   ]
  },
  {
   "cell_type": "code",
   "execution_count": 140,
   "metadata": {},
   "outputs": [
    {
     "data": {
      "image/png": "[encoded data removed]",
      "text/plain": [
       "<Figure size 1152x432 with 2 Axes>"
      ]
     },
     "metadata": {},
     "output_type": "display_data"
    }
   ],
   "source": [
    "#Simple plot\n",
    "\n",
    "fig, ax = plt.subplots(figsize=(16,6),\n",
    "                        ncols=1, \n",
    "                        nrows=2,\n",
    "                        gridspec_kw={\"height_ratios\":[1,0.25]})\n",
    "\n",
    "ax[0].stem(D['mz'], D['intensity'], markerfmt= \" \")\n",
    "for i in range(len(D['mz'])):\n",
    "    if D['ion'][i] == 0:\n",
    "        label = '$y_{%s}$'%(str(D['position'][i]))\n",
    "    else:\n",
    "        label = '$b_{%s}$'%(str(D['position'][i]))\n",
    "    ax[0].text(x=D['mz'][i],y=D['intensity'][i]+200, s=label, fontsize=10)\n",
    "ax[0].set_xlabel('m/Z')\n",
    "ax[0].set_ylabel('Intensity')\n",
    "\n",
    "\n",
    "plt.tight_layout()"
   ]
  },
  {
   "cell_type": "code",
   "execution_count": null,
   "metadata": {
    "collapsed": true
   },
   "outputs": [],
   "source": [
    "# Match spectra"
   ]
  }
 ],
 "metadata": {
  "kernelspec": {
   "display_name": "Python 3",
   "language": "python",
   "name": "python3"
  },
  "language_info": {
   "codemirror_mode": {
    "name": "ipython",
    "version": 3
   },
   "file_extension": ".py",
   "mimetype": "text/x-python",
   "name": "python",
   "nbconvert_exporter": "python",
   "pygments_lexer": "ipython3",
   "version": "3.6.5"
  }
 },
 "nbformat": 4,
 "nbformat_minor": 2
}
